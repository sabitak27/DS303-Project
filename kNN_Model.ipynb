{
  "nbformat": 4,
  "nbformat_minor": 0,
  "metadata": {
    "colab": {
      "provenance": []
    },
    "kernelspec": {
      "name": "python3",
      "display_name": "Python 3"
    },
    "language_info": {
      "name": "python"
    }
  },
  "cells": [
    {
      "cell_type": "code",
      "execution_count": null,
      "metadata": {
        "colab": {
          "base_uri": "https://localhost:8080/"
        },
        "id": "GXc4fucoDnYH",
        "outputId": "86e906cc-99bb-4193-b465-68f5e3b3c38a"
      },
      "outputs": [
        {
          "output_type": "stream",
          "name": "stdout",
          "text": [
            "Accuracy: 0.9666666666666667\n"
          ]
        },
        {
          "output_type": "stream",
          "name": "stderr",
          "text": [
            "<ipython-input-24-b95b7875e157>:37: VisibleDeprecationWarning: Creating an ndarray from ragged nested sequences (which is a list-or-tuple of lists-or-tuples-or ndarrays with different lengths or shapes) is deprecated. If you meant to do this, you must specify 'dtype=object' when creating the ndarray.\n",
            "  M = np.array(M)\n"
          ]
        }
      ],
      "source": [
        "import numpy as np\n",
        "from sklearn.datasets import load_iris\n",
        "from sklearn.model_selection import train_test_split\n",
        "from scipy.spatial.distance import euclidean\n",
        "\n",
        "# Load Iris dataset\n",
        "iris = load_iris()\n",
        "\n",
        "# Define KNN model-based approach for classification\n",
        "def knn_model_based_approach(X_train, y_train, X_test):\n",
        "    # Step 1: Calculate similarity matrix\n",
        "    similarity_matrix = np.zeros((X_train.shape[0], X_train.shape[0]))\n",
        "    for i in range(X_train.shape[0]):\n",
        "        for j in range(X_train.shape[0]):\n",
        "            similarity_matrix[i,j] = 1 / (1 + euclidean(X_train[i], X_train[j]))\n",
        "    \n",
        "    # Step 2: Initialize tags\n",
        "    tags = np.zeros(X_train.shape[0])\n",
        "    \n",
        "    # Step 3-5: Construct model M\n",
        "    M = []\n",
        "    while np.sum(tags) < X_train.shape[0]:\n",
        "        ungrouped_idx = np.where(tags == 0)[0]\n",
        "        largest_local_neighbourhood = np.zeros(ungrouped_idx.shape[0])\n",
        "        for i, idx in enumerate(ungrouped_idx):\n",
        "            neighbours = np.where(similarity_matrix[idx,:] >= 0.5)[0]\n",
        "            categories = y_train[neighbours]\n",
        "            largest_local_neighbourhood[i] = np.sum(categories == np.bincount(categories).argmax())\n",
        "        largest_global_neighbourhood_idx = ungrouped_idx[np.argmax(largest_local_neighbourhood)]\n",
        "        neighbours = np.where(similarity_matrix[largest_global_neighbourhood_idx,:] >= 0.5)[0]\n",
        "        categories = y_train[neighbours]\n",
        "        representative = (np.bincount(categories).argmax(), np.min(similarity_matrix[largest_global_neighbourhood_idx,neighbours]), neighbours.shape[0], X_train[largest_global_neighbourhood_idx])\n",
        "        M.append(representative)\n",
        "        tags[neighbours] = 1\n",
        "    \n",
        "    # Step 6: Return model M\n",
        "    M = np.array(M)\n",
        "    \n",
        "    # Step 1: Calculate similarity between X_test and M\n",
        "    similarity_matrix = np.zeros((X_test.shape[0], M.shape[0]))\n",
        "    for i in range(X_test.shape[0]):\n",
        "        for j in range(M.shape[0]):\n",
        "            similarity_matrix[i,j] = 1 / (1 + euclidean(X_test[i], M[j,3]))\n",
        "    \n",
        "    # Step 2-4: Classify X_test using M\n",
        "    y_pred = []\n",
        "    for i in range(X_test.shape[0]):\n",
        "        covering_reps_idx = np.where(similarity_matrix[i,:] >= M[:,1])[0]\n",
        "        if covering_reps_idx.shape[0] == 1:\n",
        "            y_pred.append(M[covering_reps_idx[0],0])\n",
        "        else:\n",
        "            if(covering_reps_idx.shape[0] == 0):\n",
        "            \n",
        "                y_pred.append(-1)\n",
        "            else:\n",
        "        \n",
        "                covering_reps_num = M[covering_reps_idx,2]\n",
        "                max_covering_reps_idx = np.argmax(covering_reps_num)\n",
        "                y_pred.append(M[covering_reps_idx[max_covering_reps_idx],0])\n",
        "    return np.array(y_pred)\n",
        "\n",
        "\n",
        "# Split dataset into training and testing sets\n",
        "X_train, X_test, y_train, y_test = train_test_split(iris.data, iris.target, test_size=0.2, random_state=42)\n",
        "# Test KNN model-based approach for classification on Iris dataset\n",
        "y_pred = knn_model_based_approach(X_train, y_train, X_test)\n",
        "accuracy = np.mean(y_pred == y_test)\n",
        "print(\"Accuracy:\", accuracy)\n",
        "\n"
      ]
    },
    {
      "cell_type": "code",
      "source": [],
      "metadata": {
        "id": "09BUzlmpEjk8"
      },
      "execution_count": null,
      "outputs": []
    }
  ]
}