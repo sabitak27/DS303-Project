{
  "metadata": {
    "language_info": {
      "codemirror_mode": {
        "name": "python",
        "version": 3
      },
      "file_extension": ".py",
      "mimetype": "text/x-python",
      "name": "python",
      "nbconvert_exporter": "python",
      "pygments_lexer": "ipython3",
      "version": "3.8"
    },
    "kernelspec": {
      "name": "python",
      "display_name": "Python (Pyodide)",
      "language": "python"
    }
  },
  "nbformat_minor": 4,
  "nbformat": 4,
  "cells": [
    {
      "cell_type": "code",
      "source": "#kNN algorithm\n\nimport numpy as np\nfrom sklearn.datasets import load_iris\nfrom sklearn.model_selection import train_test_split\nfrom sklearn.neighbors import KNeighborsClassifier\nfrom sklearn.metrics import accuracy_score\n\n# load the iris dataset\niris = load_iris()\nX = iris.data  # features\ny = iris.target  # target variable\n\n# split the dataset into training and testing sets\nX_train, X_test, y_train, y_test = train_test_split(X, y, test_size=0.3, random_state=1)\n\n# create KNN classifier\nknn = KNeighborsClassifier(n_neighbors=3)\n\n# fit the model using the training data\nknn.fit(X_train, y_train)\n\n# make predictions on the testing data\ny_pred = knn.predict(X_test)\n\n# evaluate the accuracy of the model\naccuracy = accuracy_score(y_test, y_pred)\nprint(f\"Accuracy: {accuracy:.2f}\")",
      "metadata": {
        "trusted": true
      },
      "execution_count": 45,
      "outputs": [
        {
          "name": "stdout",
          "text": "Accuracy: 0.98\n",
          "output_type": "stream"
        }
      ]
    },
    {
      "cell_type": "code",
      "source": "\n#C5.0 algorithm\n\nimport pandas as pd\nfrom sklearn.datasets import load_iris\nfrom sklearn.model_selection import train_test_split\nfrom sklearn.tree import DecisionTreeClassifier\nfrom sklearn.metrics import accuracy_score\n\n# load the iris dataset\niris = load_iris()\nX = iris.data  # features\ny = iris.target  # target variable\n\n# split the dataset into training and testing sets\nX_train, X_test, y_train, y_test = train_test_split(X, y, test_size=0.3, random_state=1)\n\n# create C5.0 decision tree classifier\nc50 = DecisionTreeClassifier(criterion='entropy', max_depth=3)\n\n# fit the model using the training data\nc50.fit(X_train, y_train)\n\n# make predictions on the testing data\ny_pred = c50.predict(X_test)\n\n# evaluate the accuracy of the model\naccuracy = accuracy_score(y_test, y_pred)\nprint(f\"Accuracy: {accuracy:.2f}\")\n\n",
      "metadata": {
        "trusted": true
      },
      "execution_count": 44,
      "outputs": [
        {
          "name": "stdout",
          "text": "Accuracy: 0.96\n",
          "output_type": "stream"
        }
      ]
    }
  ]
}